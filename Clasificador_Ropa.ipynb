{
  "nbformat": 4,
  "nbformat_minor": 0,
  "metadata": {
    "colab": {
      "name": "Clasificador_Ropa.ipynb",
      "provenance": [],
      "include_colab_link": true
    },
    "kernelspec": {
      "name": "python3",
      "display_name": "Python 3"
    }
  },
  "cells": [
    {
      "cell_type": "markdown",
      "metadata": {
        "id": "view-in-github",
        "colab_type": "text"
      },
      "source": [
        "<a href=\"https://colab.research.google.com/github/angelmorenocalvo/AprendiendoHTML/blob/master/Clasificador_Ropa.ipynb\" target=\"_parent\"><img src=\"https://colab.research.google.com/assets/colab-badge.svg\" alt=\"Open In Colab\"/></a>"
      ]
    },
    {
      "cell_type": "markdown",
      "metadata": {
        "id": "m03N79imt-dx",
        "colab_type": "text"
      },
      "source": [
        "# Clasificion de imágenes de ropa"
      ]
    },
    {
      "cell_type": "markdown",
      "metadata": {
        "id": "nYlM6wLRuJQj",
        "colab_type": "text"
      },
      "source": [
        "En este tutorial, entrenaremos una red neuronal para clasificar imagenes de ropa como botas, calcetines o camisetas."
      ]
    },
    {
      "cell_type": "markdown",
      "metadata": {
        "id": "sSzZmqmWuXla",
        "colab_type": "text"
      },
      "source": [
        "## Dependencias\n",
        "Necesitaremso la api de las bases de datos de TensorFLow, def esta forma nos resultara más sencillo el acceso a la base de datos."
      ]
    },
    {
      "cell_type": "code",
      "metadata": {
        "id": "ItMakwFzuplB",
        "colab_type": "code",
        "outputId": "94f5e2e3-7651-4faa-8061-3c8cff0189ec",
        "colab": {
          "base_uri": "https://localhost:8080/",
          "height": 377
        }
      },
      "source": [
        "!pip install -U tensorflow_datasets"
      ],
      "execution_count": 3,
      "outputs": [
        {
          "output_type": "stream",
          "text": [
            "Requirement already up-to-date: tensorflow_datasets in /usr/local/lib/python3.6/dist-packages (1.3.0)\n",
            "Requirement already satisfied, skipping upgrade: tensorflow-metadata in /usr/local/lib/python3.6/dist-packages (from tensorflow_datasets) (0.15.1)\n",
            "Requirement already satisfied, skipping upgrade: numpy in /usr/local/lib/python3.6/dist-packages (from tensorflow_datasets) (1.17.4)\n",
            "Requirement already satisfied, skipping upgrade: absl-py in /usr/local/lib/python3.6/dist-packages (from tensorflow_datasets) (0.8.1)\n",
            "Requirement already satisfied, skipping upgrade: promise in /usr/local/lib/python3.6/dist-packages (from tensorflow_datasets) (2.2.1)\n",
            "Requirement already satisfied, skipping upgrade: termcolor in /usr/local/lib/python3.6/dist-packages (from tensorflow_datasets) (1.1.0)\n",
            "Requirement already satisfied, skipping upgrade: dill in /usr/local/lib/python3.6/dist-packages (from tensorflow_datasets) (0.3.1.1)\n",
            "Requirement already satisfied, skipping upgrade: attrs in /usr/local/lib/python3.6/dist-packages (from tensorflow_datasets) (19.3.0)\n",
            "Requirement already satisfied, skipping upgrade: requests>=2.19.0 in /usr/local/lib/python3.6/dist-packages (from tensorflow_datasets) (2.21.0)\n",
            "Requirement already satisfied, skipping upgrade: tqdm in /usr/local/lib/python3.6/dist-packages (from tensorflow_datasets) (4.28.1)\n",
            "Requirement already satisfied, skipping upgrade: wrapt in /usr/local/lib/python3.6/dist-packages (from tensorflow_datasets) (1.11.2)\n",
            "Requirement already satisfied, skipping upgrade: six in /usr/local/lib/python3.6/dist-packages (from tensorflow_datasets) (1.12.0)\n",
            "Requirement already satisfied, skipping upgrade: future in /usr/local/lib/python3.6/dist-packages (from tensorflow_datasets) (0.16.0)\n",
            "Requirement already satisfied, skipping upgrade: protobuf>=3.6.1 in /usr/local/lib/python3.6/dist-packages (from tensorflow_datasets) (3.10.0)\n",
            "Requirement already satisfied, skipping upgrade: googleapis-common-protos in /usr/local/lib/python3.6/dist-packages (from tensorflow-metadata->tensorflow_datasets) (1.6.0)\n",
            "Requirement already satisfied, skipping upgrade: chardet<3.1.0,>=3.0.2 in /usr/local/lib/python3.6/dist-packages (from requests>=2.19.0->tensorflow_datasets) (3.0.4)\n",
            "Requirement already satisfied, skipping upgrade: idna<2.9,>=2.5 in /usr/local/lib/python3.6/dist-packages (from requests>=2.19.0->tensorflow_datasets) (2.8)\n",
            "Requirement already satisfied, skipping upgrade: urllib3<1.25,>=1.21.1 in /usr/local/lib/python3.6/dist-packages (from requests>=2.19.0->tensorflow_datasets) (1.24.3)\n",
            "Requirement already satisfied, skipping upgrade: certifi>=2017.4.17 in /usr/local/lib/python3.6/dist-packages (from requests>=2.19.0->tensorflow_datasets) (2019.9.11)\n",
            "Requirement already satisfied, skipping upgrade: setuptools in /usr/local/lib/python3.6/dist-packages (from protobuf>=3.6.1->tensorflow_datasets) (41.6.0)\n"
          ],
          "name": "stdout"
        }
      ]
    },
    {
      "cell_type": "code",
      "metadata": {
        "id": "xDy0T07xut-o",
        "colab_type": "code",
        "outputId": "243557a2-f5c0-4dcf-a502-78e11bf0cda9",
        "colab": {
          "base_uri": "https://localhost:8080/",
          "height": 34
        }
      },
      "source": [
        "%tensorflow_version 2.x\n",
        "import tensorflow as tf"
      ],
      "execution_count": 4,
      "outputs": [
        {
          "output_type": "stream",
          "text": [
            "TensorFlow 2.x selected.\n"
          ],
          "name": "stdout"
        }
      ]
    },
    {
      "cell_type": "code",
      "metadata": {
        "id": "UVB6_VCLu3zS",
        "colab_type": "code",
        "colab": {}
      },
      "source": [
        "import tensorflow_datasets as tfds\n",
        "\n",
        "import math\n",
        "import numpy as np\n",
        "import matplotlib.pyplot as plt"
      ],
      "execution_count": 0,
      "outputs": []
    },
    {
      "cell_type": "markdown",
      "metadata": {
        "id": "mgOiE20XvJO7",
        "colab_type": "text"
      },
      "source": [
        "## Importar Fashion MNIST dataset\n",
        "\n",
        " Usaremos la base de datos Fashion MNIST, que contiene 70000 imagenes es escala de grises en 10 categorias. Las imágienes muestran articulos de ropa en una resolución de (28*28pixels), y se ven de la siguiente manera:\n",
        "\n",
        " <table>\n",
        "  <tr><td>\n",
        "    <img src=\"https://tensorflow.org/images/fashion-mnist-sprite.png\"\n",
        "         alt=\"Fashion MNIST sprite\" width=\"600\">\n",
        "  </td></tr>\n",
        "  <tr><td align=\"center\">\n",
        "    <b>Figure 1.</b> <a href=\"https://github.com/zalandoresearch/fashion-mnist\">Fashion-MNIST samples</a> (by Zalando, MIT License).<br/>&nbsp;\n",
        "  </td></tr>\n",
        "</table>\n",
        " \n",
        "\n",
        " Esta base de datos es usada muy a menudo como el hola mundo del machine learning para el computer vision. \n",
        "\n",
        " Usaremos 60,000 imagenes pare el entrenamiento de la red neuronal, mientras que las 10,000 restantes serviran para evaluar la precisión de la clasificación por parte de la red.\n",
        "\n",
        " "
      ]
    },
    {
      "cell_type": "code",
      "metadata": {
        "id": "puDxlT9-KzE-",
        "colab_type": "code",
        "colab": {}
      },
      "source": [
        "dataset, metadata = tfds.load('fashion_mnist', as_supervised=True, with_info=True)\n",
        "train_dataset, test_dataset = dataset['train'], dataset['test']"
      ],
      "execution_count": 0,
      "outputs": []
    },
    {
      "cell_type": "markdown",
      "metadata": {
        "id": "w4O16LoTMtso",
        "colab_type": "text"
      },
      "source": [
        "Cuando cargamos la base de datos nos retorna metadata al igual qeu la bases de datos de entrenamiento y test.\n",
        "- El modelo se entrenara usando `train_dataset`.\n",
        "- El modelo se testea con `test_dataset`.\n",
        "\n",
        "Las imagenes seran arrays de 28*28, con pixeles que tienen rangos comprendidos de [0,28]. Las etiquetas seran arrays de enteros en un rango de [0,9].\n",
        "Los cuales corresponden con:\n",
        "\n",
        "<table>\n",
        "  <tr>\n",
        "    <th>Label</th>\n",
        "    <th>Class</th>\n",
        "  </tr>\n",
        "  <tr>\n",
        "    <td>0</td>\n",
        "    <td>Camiseta/top</td>\n",
        "  </tr>\n",
        "  <tr>\n",
        "    <td>1</td>\n",
        "    <td>Pantalón</td>\n",
        "  </tr>\n",
        "    <tr>\n",
        "    <td>2</td>\n",
        "    <td>Jersey</td>\n",
        "  </tr>\n",
        "    <tr>\n",
        "    <td>3</td>\n",
        "    <td>Vestido</td>\n",
        "  </tr>\n",
        "    <tr>\n",
        "    <td>4</td>\n",
        "    <td>Abrigo</td>\n",
        "  </tr>\n",
        "    <tr>\n",
        "    <td>5</td>\n",
        "    <td>Sandalia</td>\n",
        "  </tr>\n",
        "    <tr>\n",
        "    <td>6</td>\n",
        "    <td>Camisa</td>\n",
        "  </tr>\n",
        "    <tr>\n",
        "    <td>7</td>\n",
        "    <td>Deportiva</td>\n",
        "  </tr>\n",
        "    <tr>\n",
        "    <td>8</td>\n",
        "    <td>Mochila</td>\n",
        "  </tr>\n",
        "    <tr>\n",
        "    <td>9</td>\n",
        "    <td>Ankle Bota</td>\n",
        "  </tr>\n",
        "</table>\n",
        "\n",
        "Cada imagen se asigna a una sola etiqueta. Dado que los nombres de clase no se incluyen con el conjunto de datos, los guardaremos en un array para usarlos más adelante al trazar las imágenes:\n"
      ]
    },
    {
      "cell_type": "code",
      "metadata": {
        "id": "19zOBj9-OMmz",
        "colab_type": "code",
        "colab": {}
      },
      "source": [
        "class_names = ['Camiseta/top', 'Pantalon', 'Jersey', 'Vestido', 'Abrigo', 'Sandalias', 'Camisa', 'Deportiva', 'Mochila', 'Bota']"
      ],
      "execution_count": 0,
      "outputs": []
    },
    {
      "cell_type": "markdown",
      "metadata": {
        "id": "pPcOjLgLPdkq",
        "colab_type": "text"
      },
      "source": [
        "## Exploremos los datos\n",
        "Antes de entrenar camos a ver como son los datos del modelo. Con este código veremos qeu hay 60,000 imagenes en el set de entrenameitno y 10,000 en el set de de prueba:"
      ]
    },
    {
      "cell_type": "code",
      "metadata": {
        "id": "aYxezhwYR0fE",
        "colab_type": "code",
        "colab": {
          "base_uri": "https://localhost:8080/",
          "height": 51
        },
        "outputId": "aaa5d0fd-b3f3-41f0-b5c1-0a8acd32cb82"
      },
      "source": [
        "num_train_examples = metadata.splits['train'].num_examples\n",
        "num_test_examples = metadata.splits['test'].num_examples\n",
        "print(\"Número de ejemplos de entrenamiento:{}\".format(num_train_examples))\n",
        "print(\"Número de ejemplos de test:{}\".format(num_test_examples))"
      ],
      "execution_count": 8,
      "outputs": [
        {
          "output_type": "stream",
          "text": [
            "Número de ejemplos de entrenamiento:60000\n",
            "Número de ejemplos de test:10000\n"
          ],
          "name": "stdout"
        }
      ]
    },
    {
      "cell_type": "markdown",
      "metadata": {
        "id": "7_x25O0kSYM_",
        "colab_type": "text"
      },
      "source": [
        "## Preprocesamiento de datos\n",
        "\n",
        "El valor de cada pixel de los datos de la imagen es un entero en el rango [0,255]. Para que el modelo trabaje de forma apropiada, los valores tienen que ser normalizados en el rango [0,1]. Por lo que crearemos una función de normalización y la aplicaremos para cada imagen en ambos datasets."
      ]
    },
    {
      "cell_type": "code",
      "metadata": {
        "id": "KyjGGuXNT-VL",
        "colab_type": "code",
        "colab": {}
      },
      "source": [
        "def normalize(images, labels):\n",
        "  images = tf.cast(images, tf.float32)\n",
        "  images /= 255\n",
        "  return images, labels\n",
        "\n",
        "# La funcion map aplica la normalizacion de la funcion a cada elemento \n",
        "train_dataset = train_dataset.map(normalize)\n",
        "test_dataset = test_dataset.map(normalize)\n",
        "\n",
        "# La primera vez que se use el dataset, la imagen sera descargada desde el disco\n",
        "# El almacenamiento en caché los mantendrá en la memoria, haciendo que el \n",
        "# entrenamiento sea más rápido\n",
        "train_dataset =  train_dataset.cache()\n",
        "test_dataset  =  test_dataset.cache()"
      ],
      "execution_count": 0,
      "outputs": []
    },
    {
      "cell_type": "markdown",
      "metadata": {
        "id": "Z9CYD1q8W1qo",
        "colab_type": "text"
      },
      "source": [
        "## Explorando los datos procesados\n",
        "\n",
        "vamos a mostrar la imagen."
      ]
    },
    {
      "cell_type": "code",
      "metadata": {
        "id": "VNCH7WGmX3xj",
        "colab_type": "code",
        "colab": {
          "base_uri": "https://localhost:8080/",
          "height": 269
        },
        "outputId": "933214b2-80fa-4780-dee2-53bd5d194467"
      },
      "source": [
        "# Cogemos una sola imagen, y borramos la dimension del color con reshaping\n",
        "for image, label in test_dataset.take(1):\n",
        "  break\n",
        "image = image.numpy().reshape((28,28))\n",
        "\n",
        "# mostrar la imagen\n",
        "plt.figure()\n",
        "plt.imshow(image, cmap=plt.cm.binary)\n",
        "plt.colorbar()\n",
        "plt.grid(False)\n",
        "plt.show()\n"
      ],
      "execution_count": 10,
      "outputs": [
        {
          "output_type": "display_data",
          "data": {
            "image/png": "[encoded data removed]",
            "text/plain": [
              "<Figure size 432x288 with 2 Axes>"
            ]
          },
          "metadata": {
            "tags": []
          }
        }
      ]
    },
    {
      "cell_type": "markdown",
      "metadata": {
        "id": "vGLnKDTFdNqW",
        "colab_type": "text"
      },
      "source": [
        "Sacar por pantalla las primers 25 imagenes de los datasets con el nombre debajo de la imagen. Comprueba que los datos tienen el formato correcto y estan preparados para entrenar la red."
      ]
    },
    {
      "cell_type": "code",
      "metadata": {
        "id": "h69uE74adK3B",
        "colab_type": "code",
        "colab": {
          "base_uri": "https://localhost:8080/",
          "height": 589
        },
        "outputId": "80ffba32-743f-4144-c9e5-7f76ccad1ade"
      },
      "source": [
        "plt.figure(figsize=(10,10))\n",
        "i = 0\n",
        "for (image, label) in test_dataset.take(25):\n",
        "  image = image.numpy().reshape((28,28))\n",
        "  plt.subplot(5,5,i+1)\n",
        "  plt.xticks([])\n",
        "  plt.yticks([])\n",
        "  plt.grid(False)\n",
        "  plt.imshow(image, cmap=plt.cm.binary)\n",
        "  plt.xlabel(class_names[label])\n",
        "  i+=1\n",
        "plt.show()"
      ],
      "execution_count": 12,
      "outputs": [
        {
          "output_type": "display_data",
          "data": {
            "image/png": "[encoded data removed]",
            "text/plain": [
              "<Figure size 720x720 with 25 Axes>"
            ]
          },
          "metadata": {
            "tags": []
          }
        }
      ]
    },
    {
      "cell_type": "markdown",
      "metadata": {
        "id": "uw5PbmEXflXK",
        "colab_type": "text"
      },
      "source": [
        "# Desarrollando el modelo\n",
        "El desarrollo de la red neuronal requiere configurar las capas del modelo y despues compilar el modelo."
      ]
    },
    {
      "cell_type": "markdown",
      "metadata": {
        "id": "MEmseIQIg6Db",
        "colab_type": "text"
      },
      "source": [
        "### Configurar el modelo\n",
        "Esta red contará con tres capas:\n",
        "- **input** `tf.keras.kayers.Flatten` $\\rightarrow$ Esta capa transforma las imagenes en dos dimensiones a un d-array de 784 pixels(28*28). Piensa que esta capa como el desapilado de las columnas de los pixeles en la imagen y aliniandolos. Esta capa no tiene parametros que aprendan, solo reforman los datos.\n",
        "- **hidden** `tf.keras.layer.Dense` $\\rightarrow$ Una capa de conexiones densas de 128 neuronas. Estas neuroanas o nodos tomas el input de los 748 nodos de la capa previa, los pesos del input de acuedo con los parametros que son enseñados durante el entrenamiento y outputs como un valor unico de la siguiente capa.\n",
        "- **output** `tf.keras.layers.Dense` $\\rightarrow$ 10 nodos de capa softmax, cada nodo representa una de las clases de ropa que tenemos en el modelo. Toma como in"
      ]
    },
    {
      "cell_type": "code",
      "metadata": {
        "id": "2ylf6D5qi52H",
        "colab_type": "code",
        "colab": {}
      },
      "source": [
        "model = tf.keras.Sequential([\n",
        "    tf.keras.layers.Flatten(input_shape=(28, 28, 1)),\n",
        "    tf.keras.layers.Dense(128, activation=tf.nn.relu),\n",
        "    tf.keras.layers.Dense(10,  activation=tf.nn.softmax)\n",
        "])"
      ],
      "execution_count": 0,
      "outputs": []
    },
    {
      "cell_type": "markdown",
      "metadata": {
        "id": "TsLriyNii-WE",
        "colab_type": "text"
      },
      "source": [
        "### Compilar el modelo\n",
        "Antes de qeu el modelo esté listo para ser entrenado, necesita algunas configuraciones más:\n",
        "- **Loss funtion** $\\rightarrow$\n",
        "- **Optimizer** $\\rightarrow$\n",
        "- **Metrics** $\\rightarrow$"
      ]
    }
  ]
}